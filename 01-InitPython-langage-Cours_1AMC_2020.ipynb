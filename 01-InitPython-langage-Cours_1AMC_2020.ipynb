{
 "cells": [
  {
   "cell_type": "markdown",
   "metadata": {
    "slideshow": {
     "slide_type": "slide"
    }
   },
   "source": [
    " ![](fig/python-logo.png)\n",
    " ![](fig/LogoENSICAEN_rectangle_couleurs.png)\n",
    "***\n",
    "# Introduction à la Programmation \n",
    "# Langage Python (cours 1)\n",
    "***\n",
    "**ENSICAEN  1A MC** \n",
    " 2019-2020\n",
    "\n",
    "## Eric Ziad-Forest\n",
    "***\n",
    "## Sommaire\n",
    "\n",
    "- Prise en main des notebooks\n",
    "- Généralités sur le langage Python\n",
    "\n",
    "***\n",
    "**Auteurs :**\n",
    "\n",
    "- Vincent Legoll ([vincent.legoll@iphc.cnrs.fr](mailto: vincent.legoll@iphc.cnrs.fr))\n",
    "- Matthieu Boileau ([matthieu.boileau@math.unistra.fr](mailto: matthieu.boileau@math.unistra.fr))\n",
    "- Eric Ziad-Forest ([ziad@ensicaen.fr](mailto: ziad@ensicaen.fr))\n",
    "***\n",
    "*Contenu sous licence [CC BY-SA 4.0](https://creativecommons.org/licenses/by-sa/4.0)*"
   ]
  },
  {
   "cell_type": "markdown",
   "metadata": {
    "slideshow": {
     "slide_type": "slide"
    }
   },
   "source": [
    "# Prise en main des notebooks\n",
    "\n",
    "Le document que vous lisez est un [notebook iPython](http://jupyter.org/). Il est constitué de cellules comportant :\n",
    "\n",
    "- soit du texte en [**Markdown**](https://daringfireball.net/projects/markdown/) comme ici.\n",
    "- soit du code Python, comme dans la cellule suivante:"
   ]
  },
  {
   "cell_type": "code",
   "execution_count": null,
   "metadata": {
    "slideshow": {
     "slide_type": "-"
    }
   },
   "outputs": [],
   "source": [
    "print('Hello world!')"
   ]
  },
  {
   "cell_type": "markdown",
   "metadata": {},
   "source": [
    "> **Note :**\n",
    "- [``print()``](https://docs.python.org/3/library/functions.html#print) est une fonction fournie par python pour afficher du texte à destination de l'utilisateur.\n",
    "- les crochets [ ] à gauche de la cellule indiquent le nombre d'exécutions de la cellule. Ici, la cellule n'a pas encore été exécutée (une fois executé entre les crochets apparaient un nombre, si un astérisque [\\*] le noyau de l'interpréteur est soit occupé soit bloqué. Dans l'onglet **Kernel** il suffit alors de le relancer **Restart**.\n",
    "- Pour exécuter l'instruction dans l'interpréteur Python taper sur **Shift + Enter** (**Maj + Entrée**)"
   ]
  },
  {
   "cell_type": "markdown",
   "metadata": {
    "slideshow": {
     "slide_type": "subslide"
    }
   },
   "source": [
    "### Les deux modes du notebook :\n",
    "\n",
    "- *Commande* : permet de se déplacer d'une cellule à l'autre et d'exécuter les cellules\n",
    "- *Edition* : permet de modifier le contenu d'une cellule."
   ]
  },
  {
   "cell_type": "markdown",
   "metadata": {
    "slideshow": {
     "slide_type": "fragment"
    }
   },
   "source": [
    "### Changement de mode:\n",
    "- *Commande* -> *Edition* : touche \"Enter\" ou double-click dans la cellule.\n",
    "- *Edition* -> *Commande* :\n",
    "    - Touche \"Esc\" pour basculer sans exécuter\n",
    "    - Touche \"Shift + Enter\" pour \"exécuter\" la cellule et passer à la suivante. Le résultat de l'exécution d'une cellule en Markdown donne le rendu visuel de celle-ci."
   ]
  },
  {
   "cell_type": "markdown",
   "metadata": {
    "slideshow": {
     "slide_type": "fragment"
    }
   },
   "source": [
    "> **Exercice** : Revenez en arrière, sélectionnez et exécutez (SHIFT+ENTER) la cellule de code qui contient **print('Hello world!')**"
   ]
  },
  {
   "cell_type": "markdown",
   "metadata": {
    "slideshow": {
     "slide_type": "subslide"
    }
   },
   "source": [
    "### Mode Commande\n",
    "\n",
    "- On se déplace à l'aide des flèches haut/bas ou en cliquant avec la souris.\n",
    "- On peut ajouter, effacer, déplacer, créer ou modifier le contenu des cellules à l'aide des menus déroulants en haut de la page \n",
    "\n",
    "\n",
    "### Mode Edition\n",
    "- signalé par la petite icône \"crayon\" en haut à droite, dans la barre de menu\n",
    "\n",
    "### Note :\n",
    "\n",
    "La plupart des actions à la souris peuvent se faire à l'aide des raccourcis du menu *Help > Keyboard Shortcuts* (touche H)"
   ]
  },
  {
   "cell_type": "markdown",
   "metadata": {
    "slideshow": {
     "slide_type": "fragment"
    }
   },
   "source": [
    "> **Exercice** : Revenez en arrière, sélectionnez la cellule **\"Hello world\"**. Modifiez son contenu, par exemple traduisez le message en français, réexécutez-la et observez le nouveau résultat. Remarquez que le nombre d'exécutions augmente."
   ]
  },
  {
   "cell_type": "markdown",
   "metadata": {},
   "source": [
    "\n",
    "## Manipulation du notebook\n",
    "\n",
    "> Notebook : [debuter-avec-les-notebooks](http://localhost:8888/notebooks/debuter-avec-les-notebooks.ipynb)"
   ]
  },
  {
   "cell_type": "markdown",
   "metadata": {
    "slideshow": {
     "slide_type": "-"
    }
   },
   "source": [
    "> **Exercice**\n",
    "> 1. Suivre le tour guidé de l'interface : *Help > User Interface Tour*\n",
    "> 2. Avancer dans le notebook avec \"Shift + Enter\"\n",
    "> 3. Passer du mode **Commande** au mode **Edition** de différentes façons\n",
    "> 4. Ouvrez la rubrique **Keyboard Shortcuts** de l'aide et tenter de reproduire les actions uniquement avec les touches du clavier"
   ]
  },
  {
   "cell_type": "markdown",
   "metadata": {
    "slideshow": {
     "slide_type": "subslide"
    }
   },
   "source": [
    "### Notes :\n",
    "\n",
    "- Vous pouvez vous servir de votre copie d'un notebook pour faire office de bloc-notes : vous pouvez rajouter des cellules de texte pour vos commentaires et des cellules de code pour vos essais de résolution d'exercices.\n",
    "- \"CTRL + S\" pour sauver vos modifications\n",
    "- Pensez à emporter le fichier \".ipynb\" avec vous à la fin de la session."
   ]
  },
  {
   "cell_type": "markdown",
   "metadata": {},
   "source": [
    "> **Exercice** :\n",
    "> 1. Ajoutez une cellule de texte ci-dessous (touches 'b' puis 'm'), et mettez-y une note.\n",
    "> 2. Ajoutez une cellule de code ci-dessous (touche 'b'), et mettez-y un exemple de code."
   ]
  },
  {
   "cell_type": "markdown",
   "metadata": {
    "slideshow": {
     "slide_type": "slide"
    }
   },
   "source": [
    "# La programmation, qu'est-ce que c'est ?\n",
    "\n",
    "\n",
    "- On \"parle\" à l'ordinateur pour lui \"demander\" de faire quelque chose\n",
    "\n",
    "- Un programme : [algorithme](https://fr.wikipedia.org/wiki/Algorithme), [formules mathématiques](https://fr.wikipedia.org/wiki/Formule_%28math%C3%A9matiques%29), [logique](https://fr.wikipedia.org/wiki/Logique), [recette de cuisine](http://www.marmiton.org/)\n",
    "\n",
    "- Les ingrédients pour la recette => les données : fichiers, mouvements de la souris, des touches entrées au clavier, des données en provenance du réseau...\n",
    "\n",
    "- On utilise un (des) langage(s) de programmation. Langage dans le sens linguistique: vocabulaire, orthographe, syntaxe et dialectes...\n",
    "\n",
    "- Un programme est écrit sous forme de texte structuré : ensemble de phrases ordonnées qui exprimment la recette"
   ]
  },
  {
   "cell_type": "markdown",
   "metadata": {
    "slideshow": {
     "slide_type": "slide"
    }
   },
   "source": [
    "\n",
    "# Le langage Python\n",
    "\n",
    "- Langage interprété, originellement écrit en C\n",
    "- Open-source, portable et disponible sur Unix, Windows, Mac OSX, etc.\n",
    "- Syntaxe claire et simple\n",
    "- Orienté objet\n",
    "- Types nombreux et puissants\n",
    "- Interfaces avec de nombreux autres langages et librairies\n",
    "- Large spectre d'applications\n",
    "\n",
    "Plus d'informations sur [wikipedia](https://fr.wikipedia.org/wiki/Python_%28langage%29) ou sur le site officiel de [python](https://www.python.org)."
   ]
  },
  {
   "cell_type": "markdown",
   "metadata": {
    "slideshow": {
     "slide_type": "slide"
    }
   },
   "source": [
    "![](fig/python-logo.png)\n",
    "\n",
    "# Historique\n",
    "\n",
    "La genèse du langage date de la fin des années 80. [Guido van Rossum](https://fr.wikipedia.org/wiki/Guido_van_Rossum), alors à l'Institut de Recherche en Mathématiques et Informatique hollandais ([CWI](http://www.cwi.nl)) à Amsterdam a publié la version 0.9.0 de l'interpréteur en Février 1991. Il travaille maintenant pour dropbox après 7 ans chez google.\n",
    "\n",
    "Plus d'histoire sur [wikipedia](https://en.wikipedia.org/wiki/History_of_Python).\n",
    "\n",
    "L'histoire racontée par le créateur lui-même sur [son blog](http://python-history.blogspot.fr) sous forme d'anecdotes."
   ]
  },
  {
   "cell_type": "markdown",
   "metadata": {
    "slideshow": {
     "slide_type": "slide"
    }
   },
   "source": [
    "# Qu'est-ce qu'un langage interprété ?\n",
    "\n",
    "- Ordinateur => CPU => jeu d'instructions (ISA) => langage binaire\n",
    "- Un langage de programmation permet d'écrire des programmes dans des langages mieux adaptés aux humains, mais nécessite une étape de traduction.\n",
    "- Comme pour une langue étrangère, il nous faut un traducteur ou un interprète...\n",
    "    - Le traducteur va lire le texte et en produire une version dans la langue étrangère.\n",
    "    - L'interprète va lire le texte, et pendant sa lecture, effectuer la traduction en direct.\n",
    "- Pour un langage informatique, c'est quasiment pareil, nous avons des [compilateurs](https://fr.wikipedia.org/wiki/Compilateur) et des [interpréteurs](https://fr.wikipedia.org/wiki/Interpr%C3%A8te_(informatique)).\n",
    "    - Les compilateurs, traduisent tout le code source en langage binaire utilisable directement par le CPU.\n",
    "    - L'interpréteur lit une partie du code source et exécute directement les instructions binaires qui correspondent et passe à la suite."
   ]
  },
  {
   "cell_type": "markdown",
   "metadata": {
    "slideshow": {
     "slide_type": "subslide"
    }
   },
   "source": [
    "Un langage interprété sera souvent moins rapide qu'un langage compilé, car les optimisations sont plus faciles a réaliser lors d'une compilation.\n",
    "\n",
    "Cette différence a tendance a s'estomper avec l'apparition des techniques suivantes:\n",
    "\n",
    "- [JIT](https://fr.wikipedia.org/wiki/Compilation_%C3%A0_la_vol%C3%A9e): compilation à la volée (Just In Time compilation)\n",
    "- [RTTS](https://en.wikipedia.org/wiki/Run-time_algorithm_specialisation): spécialisation de types au moment de l'exécution (Run Time Type Specialization)\n",
    "\n",
    "Une autre possibilité pour contourner la lenteur d'exécution d'un langage est de faire appel a des librairies externes programmées dans un langage compilé et optimisées. Cela est très efficace pour les parties du code qui sont utilisées de manière répétitive."
   ]
  },
  {
   "cell_type": "markdown",
   "metadata": {
    "slideshow": {
     "slide_type": "subslide"
    }
   },
   "source": [
    "![](fig/compile_interprete.png)\n",
    "\n",
    "<span style=\"font-size:0.7em;\">Figure inspirée du livre [Apprendre à programmer en Python](http://framasoft.net/IMG/pdf/python_notes-2.pdf) de G. Swinnen.</span>\n"
   ]
  },
  {
   "cell_type": "markdown",
   "metadata": {
    "slideshow": {
     "slide_type": "subslide"
    }
   },
   "source": [
    "# Quelques interpréteurs Python\n",
    "\n",
    "- [CPython](https://www.python.org) => Implémentation de référence\n",
    "- [Jython](http://www.jython.org) => Java byte code, accès aux classes java\n",
    "- [IronPython](http://ironpython.net) => CLR byte code, accès aux classes [.NET](https://en.wikipedia.org/wiki/.NET_Framework)\n",
    "- [Pyjamas](http://pyjs.org) => JavaScript, Ajax, [GWT](http://www.gwtproject.org)\n",
    "- [Stackless Python](http://www.stackless.com) => pas de pile, microthreads, coroutines\n",
    "- [Shed Skin](http://shedskin.github.io) => C++, typage statique\n",
    "- [Cython](http://cython.org) => C, créer des modules python\n",
    "- [Pyrex](http://www.cosc.canterbury.ac.nz/~greg/python/Pyrex) => langage proche de python, C\n",
    "- [Unladen Swallow](https://code.google.com/p/unladen-swallow) => origine google, JIT, [LLVM](http://llvm.org)\n",
    "- [Pypy](http://pypy.org) => JIT, RTTS, RPython -> C, Java byte code, CLR byte code\n",
    "- [Psyco](http://psyco.sourceforge.net) => JIT, RTTS, x86, n'est plus maintenu\n",
    "- [Nuitka](http://nuitka.net/pages/overview.html) => C, fortement compatible\n",
    "- [Pyston](https://blog.pyston.org/about) => JIT, origine dropbox, n'est plus maintenu"
   ]
  },
  {
   "cell_type": "markdown",
   "metadata": {
    "slideshow": {
     "slide_type": "slide"
    }
   },
   "source": [
    "# Exécution d'un programme Python\n",
    "\n",
    "## Dans la console Python interactive\n",
    "\n",
    "On peut exécuter le code directement à l'invite de l'interpréteur.\n",
    "   \n",
    "    $ python3\n",
    "    Python 3.5.2+ (default, Sep 22 2016, 12:18:14)\n",
    "    [GCC 6.2.0 20160927] on linux\n",
    "    Type \"help\", \"copyright\", \"credits\" or \"license\" for more information.\n",
    "    >>> a = 2\n",
    "    >>> print(a)\n",
    "    2\n",
    "    >>> \n",
    "\n",
    "### Note\n",
    "\n",
    "Le caractère '$ ' est l'invite de commande typique d'un système d'exploitation linux, si vous utilisez une version de windows, l'invite de commande de cmd.exe sera plutot 'C:\\\\> '."
   ]
  },
  {
   "cell_type": "markdown",
   "metadata": {
    "slideshow": {
     "slide_type": "subslide"
    }
   },
   "source": [
    "## Depuis la console système\n",
    "\n",
    "On peut l'exécuter en paramètre de la ligne de commande\n",
    "\n",
    "    $ python -c 'a=3;print(a)'\n",
    "\n",
    "Sous windows:\n",
    "\n",
    "    C:\\> python.exe -c 'a=3;print(a)'\n",
    "\n",
    "On peut exécuter un fichier (par exemple test.py) contenant notre code\n",
    "\n",
    "    $ python test.py"
   ]
  },
  {
   "cell_type": "markdown",
   "metadata": {
    "slideshow": {
     "slide_type": "subslide"
    }
   },
   "source": [
    "On peut exécuter directement un fichier python contenant notre code, grâce à l'utilisation du mode script avec, en rajoutant en première ligne du fichier:\n",
    "\n",
    "    #! python\n",
    "\n",
    "Après avoir rendu le fichier exécutable\n",
    "\n",
    "    $ chmod a+x test.py\n",
    "\n",
    "Ensuite il peut être exécuté sans donner l'interpréteur:\n",
    "\n",
    "    $ ./test.py"
   ]
  },
  {
   "cell_type": "markdown",
   "metadata": {
    "slideshow": {
     "slide_type": "subslide"
    }
   },
   "source": [
    "## Dans la console iPython\n",
    "\n",
    "Le terminal interactif [iPython](http://ipython.org) peut s'utiliser comme alternative à la console Python classique pour ses fonctionnalités :\n",
    "\n",
    "- syntaxe additionnelle\n",
    "- complétion\n",
    "- commandes système\n",
    "- historique enrichi\n",
    "\n",
    "Aperçu du terminal ipython :\n",
    "\n",
    "    $ ipython\n",
    "    Python 3.5.2+ (default, Sep 22 2016, 12:18:14) \n",
    "    Type \"copyright\", \"credits\" or \"license\" for more information.\n",
    "\n",
    "    IPython 2.4.1 -- An enhanced Interactive Python.\n",
    "    ?         -> Introduction and overview of IPython's features.\n",
    "    %quickref -> Quick reference.\n",
    "    help      -> Python's own help system.\n",
    "    object?   -> Details about 'object', use 'object??' for extra details.\n",
    "\n",
    "    In [1]: "
   ]
  },
  {
   "cell_type": "markdown",
   "metadata": {
    "slideshow": {
     "slide_type": "subslide"
    }
   },
   "source": [
    "### Un exemple d'utilisation\n",
    "\n",
    "Sauvegarde de l'historique des commandes avec la *magic function* ``%save``\n",
    "\n",
    "    $ ipython\n",
    "    Python 3.5.2+ (default, Sep 22 2016, 12:18:14) \n",
    "    Type \"copyright\", \"credits\" or \"license\" for more information.\n",
    "\n",
    "    IPython 2.4.1 -- An enhanced Interactive Python.\n",
    "    ?         -> Introduction and overview of IPython's features.\n",
    "    %quickref -> Quick reference.\n",
    "    help      -> Python's own help system.\n",
    "    object?   -> Details about 'object', use 'object??' for extra details.\n",
    "\n",
    "    In [1]: print('- Hello world!')\n",
    "    - Hello world!\n",
    "\n",
    "    In [2]: R = 'Hello you! '\n",
    "\n",
    "    In [3]: print(R*6)\n",
    "    Hello you! Hello you! Hello you! Hello you! Hello you! Hello you! \n",
    "\n",
    "    In [4]: %save hello.py 1-3\n",
    "    The following commands were written to file `hello.py`:\n",
    "    print('- Hello world!')\n",
    "    R = 'Hello you! '\n",
    "    print(R*6)\n",
    "\n",
    "    In [5]: quit\n",
    "\n"
   ]
  },
  {
   "cell_type": "markdown",
   "metadata": {
    "slideshow": {
     "slide_type": "subslide"
    }
   },
   "source": [
    "## Au sein d'un notebook iPython\n",
    "\n",
    "Les cellules de type *code* vous donnent accès à une console qui inclut la plupart des fonctionnalités de la console iPython.\n",
    "\n",
    "> **Exercice :**\n",
    ">\n",
    "> 1. Exécuter la cellule de code ci-dessous et observez le résultat\n",
    "> 2. Exécuter cette cellule une deuxième fois, observez la différence"
   ]
  },
  {
   "cell_type": "code",
   "execution_count": null,
   "metadata": {},
   "outputs": [],
   "source": [
    "print('- Hello world!')\n",
    "R = '- Hello you!\\n'\n",
    "print(R*6)\n",
    "%history"
   ]
  },
  {
   "cell_type": "markdown",
   "metadata": {
    "slideshow": {
     "slide_type": "subslide"
    }
   },
   "source": [
    "## Utilisation d'un IDE (Environnement de développement intégré)\n",
    "\n",
    "Un grand nombre d'IDE sont disponibles pour Python (cf. [la revue wikipedia](https://en.wikipedia.org/wiki/Comparison_of_integrated_development_environments#Python) et la [la revue wiki.python.org](https://wiki.python.org/moin/IntegratedDevelopmentEnvironments)).\n",
    "\n",
    "Citons simplement :\n",
    "\n",
    "- [**IDLE**](https://docs.python.org/3/library/idle.html) : l'IDE par défaut de Python.\n",
    "- [**Spyder**](https://github.com/spyder-ide/spyder) : l'IDE que certain ont utilisé l'an dernier.\n",
    "- [**PyCharm**](https://www.jetbrains.com/pycharm/) : l'un des IDE les plus performant du moment. "
   ]
  },
  {
   "cell_type": "markdown",
   "metadata": {
    "slideshow": {
     "slide_type": "slide"
    }
   },
   "source": [
    "# Application du langage Python\n",
    "\n",
    "## Exemples d'applications courantes\n",
    "\n",
    "Python est un langage complet, utilisable dans un grand nombre de domaines :\n",
    "\n",
    "- bittorrent - téléchargement\n",
    "- dropbox - partage de fichiers\n",
    "- openstack - gestionnaire de cloud\n",
    "- yum - installeur de paquets redhat, centos\n",
    "- moinmoin - wiki\n",
    "- trac - gestion de versions, bugs, wiki\n",
    "- civilization IV - jeu de stratégie\n",
    "- django - framework web\n",
    "- zope - CMS, serveur d'applications web\n",
    "- softimage - modelage et rendu 3D\n",
    "- maya - modelage et rendu 3D\n",
    "- paint shop pro - éditeur d'images\n",
    "- gimp - éditeur d'images\n",
    "- inkscape - éditeur de graphiques vectoriels\n",
    "- reddit - réseau social, communauté\n",
    "- yahoo groups - forums\n",
    "- youtube - streaming vidéo\n",
    "\n",
    "Plus d'exemples sur [wikipedia](https://en.wikipedia.org/wiki/List_of_Python_software#Applications)\n"
   ]
  },
  {
   "cell_type": "markdown",
   "metadata": {
    "slideshow": {
     "slide_type": "subslide"
    }
   },
   "source": [
    "## Intérêt pour les sciences\n",
    "\n",
    "Pour un usage scientifique, Python est intéressant à plusieurs titres. En effet, il est capable de réaliser de manière automatique et efficace un certain nombre de tâches qui sont le quotidien des scientifiques :\n",
    "- Manipuler et traiter des données de simulations ou d'expériences\n",
    "- Visualiser des résultats\n",
    "- Communiquer ses résultats sous la forme de données numériques formatées, de figures ou d'animations\n",
    "\n",
    "Dans le domaine du **calcul scientifique**, Python est particulièrement riche en fonctionnalités grâce à la contribution importante de la communauté des mathématiques et du calcul à travers le projet [SciPy](http://www.scipy.org/)."
   ]
  },
  {
   "cell_type": "markdown",
   "metadata": {
    "slideshow": {
     "slide_type": "subslide"
    }
   },
   "source": [
    "## Le Python scientifique\n",
    "\n",
    "#### 1. Développement de code de simulation\n",
    "\n",
    "Bien que généralement moins performant que les langages compilés (C, C++ ou Fortran), Python est particulièrement intéressant et agréable à programmer dans les phases de développement pour tester rapidement de nouvelles méthodes. Une fois le prototypage terminé, il est posible de porter les parties critiques du code vers un langage compilé plus rapide, tout en gardant le reste en python."
   ]
  },
  {
   "cell_type": "markdown",
   "metadata": {
    "slideshow": {
     "slide_type": "fragment"
    }
   },
   "source": [
    "#### 2. Traitement de données\n",
    "\n",
    "- langage de haut niveau produisant du code agréable à lire (par opposition à excel, par exemple...)\n",
    "- nombreux modules spécialisés (algèbre, statistique, traitement d'images, etc.)\n",
    "- le concept assez novateur des **notebooks iPython** qui combinent de l'exécution de code, du texte formaté, des formules mathématiques (via LaTeX), des tracés et du contenu média"
   ]
  },
  {
   "cell_type": "markdown",
   "metadata": {
    "slideshow": {
     "slide_type": "fragment"
    }
   },
   "source": [
    "#### 3. Tracés graphiques (avec Matplotlib) :\n",
    "- tracés 1D, 2D voire 3D\n",
    "- animations"
   ]
  },
  {
   "cell_type": "markdown",
   "metadata": {
    "slideshow": {
     "slide_type": "subslide"
    }
   },
   "source": [
    "- On dispose ainsi d'un outil très complet et performant qui représente une alternative sérieuse aux outils commerciaux tels que Matlab, Maple, Mathematica, etc.\n",
    "- SciPy fournit une excellente référence pour les applications scientifiques de Python dans [ce document](http://www.scipy-lectures.org/index.html)."
   ]
  },
  {
   "cell_type": "markdown",
   "metadata": {
    "slideshow": {
     "slide_type": "fragment"
    }
   },
   "source": [
    "### Les principaux paquets dédiés au Python scientifique :\n",
    "\n",
    "- [NumPy](http://www.numpy.org) : calcul numérique, opérations mathématiques sur tableaux et matrices de grandes dimensions\n",
    "- [SciPy](https://www.scipy.org) : ensemble d'outils scientifiques pour le traitement de signal, d'images, algèbre lineaire, etc...\n",
    "- [Sympy](http://sympy.org) and [SAGE](http://www.sagemath.org) : librairies et outils mathématiques pour le calcul symbolique\n",
    "- [Matplotlib](http://matplotlib.org) : tracer et visualiser des données sous forme graphique, à la matlab ou mathematica\n",
    "- [Pandas](http://pandas.pydata.org) : analyser vos données\n",
    "- [BioPython](http://biopython.org) : problèmes de biologie : génomique, modélisation moléculaire, etc...\n",
    "- [AstroPy](http://www.astropy.org) : librairie communautaire dédiée à l'astronomie"
   ]
  },
  {
   "cell_type": "markdown",
   "metadata": {
    "slideshow": {
     "slide_type": "fragment"
    }
   },
   "source": [
    "### Migrer de MATLAB vers Python ?\n",
    "\n",
    "- Une discussion intéressante : [Python vs Matlab](http://www.pyzo.org/python_vs_matlab.html)\n",
    "- Un guide de migration : [Numpy for Matlab users: guide](https://docs.scipy.org/doc/numpy-dev/user/numpy-for-matlab-users.html)\n",
    "- Une table de conversion de la syntaxe : [NumPy for MATLAB users: syntax](http://mathesaurus.sourceforge.net/matlab-numpy.html)"
   ]
  },
  {
   "cell_type": "markdown",
   "metadata": {
    "slideshow": {
     "slide_type": "slide"
    }
   },
   "source": [
    "# Documentation et sources\n",
    "\n",
    "## La documentation\n",
    "\n",
    "- Officielle :\n",
    "  - [L'index](https://www.python.org/doc/)\n",
    "  - [La FAQ](https://docs.python.org/faq/)\n",
    "  - [La librairie standard](https://docs.python.org/3/library/index.html)\n",
    "  - [Des tutoriels](https://docs.python.org/3/tutorial/index.html)\n",
    "- [Stackoverflow](https://stackoverflow.com/questions/tagged/python) : Forum de questions / réponses"
   ]
  },
  {
   "cell_type": "markdown",
   "metadata": {
    "slideshow": {
     "slide_type": "slide"
    }
   },
   "source": [
    "## Les sources de ce support\n",
    "\n",
    "Quelques ressources qui ont inspiré le contenu de cette formation et qui pourront vous servir pour aller plus loin :\n",
    "\n",
    "- **avec le langage**\n",
    "    - Le MOOC de l'INRIA : [Python : des fondamentaux à l'utilisation du langage](https://www.fun-mooc.fr/courses/inria/41001S03/session03/about) hébergé sur la plateforme [FUN](https://www.france-universite-numerique-mooc.fr) (et qui sera probablement rejoué dans le futur)\n",
    "    - La formation du [groupe Calcul](http://calcul.math.cnrs.fr) : [ANF \"Python avancé en calcul scientifique\"](http://calcul.math.cnrs.fr/spip.php?rubrique102)\n",
    "    - La formation de Pierre Navaro : [Python pour le calcul](https://perso.univ-rennes1.fr/pierre.navaro/python/pdfs)\n",
    "    - Le livre en ligne de Harold Erbin : [Livre Python](http://python.melsophia.org/index.html#)\n",
    "    - Le livre de Gérard Swinnen : [Apprendre à programmer en Python](http://framasoft.net/IMG/pdf/python_notes-2.pdf)\n",
    "    - Le cours de python scientifique de l'institut de science du téléscope spatial: [STSCI's Scientific Python Course 2015](https://github.com/spacetelescope/scientific-python-training-2015) (en anglais)\n",
    "\n",
    "- **avec les notebooks Jupyter**\n",
    "    - Ce qu'on peut écrire en Markdown et en LaTeX dans les notebooks [Jupyter](http://jupyter.org/) et ce qu'on peut faire dans les cellules de code dans cette [série de tutoriels](https://www.youtube.com/playlist?list=PLRJx8WOUx5XcDMOxSQegCJUjTJePTlF9Z)\n",
    "    - Pour mettre vos notebooks en ligne : [nbviewer](http://nbviewer.ipython.org)"
   ]
  }
 ],
 "metadata": {
  "kernelspec": {
   "display_name": "Python 3",
   "language": "python",
   "name": "python3"
  },
  "language_info": {
   "codemirror_mode": {
    "name": "ipython",
    "version": 3
   },
   "file_extension": ".py",
   "mimetype": "text/x-python",
   "name": "python",
   "nbconvert_exporter": "python",
   "pygments_lexer": "ipython3",
   "version": "3.7.3"
  }
 },
 "nbformat": 4,
 "nbformat_minor": 1
}
