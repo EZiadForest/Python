{
 "cells": [
  {
   "cell_type": "markdown",
   "metadata": {},
   "source": [
    "![](fig/python-logo.png)\n",
    " ![](fig/LogoENSICAEN_rectangle_couleurs.png)\n",
    "***\n",
    "# FORMATION AU LANGAGE PYTHON\n",
    "## INTRODUCTION ET BASES\n",
    "***\n",
    "**ENSICAEN  1A MC** \n",
    " 2019-2020\n",
    "\n",
    "## Eric Ziad-Forest\n",
    "***\n",
    "## Sommaire\n",
    "-   Présentation et installations\n",
    "-   Bases du langage\n",
    "-   Structures de données\n",
    "-   Structures de contrôle\n",
    "-   Pythonismes\n",
    "-   Entrées - Sorties Fonctions\n",
    "-   Classes et objets Interactions graphiques\n",
    "***\n",
    "**Auteurs :**\n",
    "\n",
    "- JeremyLaforet ([jeremy.laforet@utc.fr](mailto: jeremy.laforet@utc.fr)\n",
    "- Eric Ziad-Forest ([ziad@ensicaen.fr](mailto: ziad@ensicaen.fr))\n",
    "***\n",
    "*Contenu sous licence [CC BY-SA 4.0](https://creativecommons.org/licenses/by-sa/4.0)*"
   ]
  },
  {
   "cell_type": "markdown",
   "metadata": {},
   "source": [
    "## POURQUOI PYTHON? \n",
    "\n",
    "-   Langage de haut niveau\n",
    "-   Ipython (jupyter) Notebook\n",
    "-   Transition directe vers un code stable\n",
    "-   Script exécutables / multiplateforme\n",
    "-   De nombreux formats de fichiers lisibles\n",
    "-   Possible interface graphique\n",
    "-   Ratio temps de programmeur/résultat !\n",
    "-   Écosysteme scientifique riche\n",
    "-   Outils de débug/profiling\\\n",
    "\n",
    "## INSTALLATION \n",
    "\n",
    "### ANACONDA\n",
    "\n",
    "Distribution de Python \\~300 Paquets\n",
    "\n",
    "Orienté sciences\n",
    "\n",
    "### PYCHARM \n",
    "\n",
    "-   IDE pour Python\n",
    "-   Coloration,\n",
    "-   complétion,\n",
    "-   vérification de code\n",
    "-   Execution,\n",
    "-   debuggage,\n",
    "-   profilage\n",
    "-   PyCharm-edu: version *simplifée* pour l'enseignement\n",
    "\n",
    "### ÉXECUTION\n",
    "\n",
    "-   Interactive:\n",
    "-   python shell Ipython\n",
    "-   Jupyter Notebook\n",
    "-   Batch:\n",
    "-   script executables\n",
    "\n",
    "## PRÉSENTATION *STRUCTURE*\n",
    "\n",
    "\n",
    "-   script \n",
    "-   fonction \n",
    "-   module \n",
    "-   package \n",
    "\n",
    "\n",
    "### IMPORTS \n",
    "\n",
    "Utilisation de modules (ou de fonctions des modules)"
   ]
  },
  {
   "cell_type": "code",
   "execution_count": 2,
   "metadata": {},
   "outputs": [],
   "source": [
    "import sys\n",
    "import numpy as np \n",
    "from os import rename"
   ]
  },
  {
   "cell_type": "markdown",
   "metadata": {},
   "source": [
    "-    Un module entier\n",
    "-    Un module entier avec un nom personalisé \n",
    "-    Une fonction d'un module\n",
    "\n",
    "### PYTHON 2.7.x VS PYTHON 3.7.y \n",
    "\n",
    "-    Meilleur support unicode\n",
    "-    Changement de la syntaxe de certains `import`\n",
    "-    La division entière devient `//`\n",
    "-    `print` devient une fonction\n",
    "\n",
    "Tous les paquets ne sont pas encore en 3.7.y\n",
    "\n",
    "## BASES DU LANGAGE \n",
    "\n",
    "### PEP8 \n",
    "\n",
    "-   Use 4-space indentation, and no tabs.\n",
    "-   Wrap lines so that they don't exceed 79 characters.\n",
    "-   Use blank lines to separate functions and classes, and larger blocks\n",
    "    of code inside functions.\n",
    "-   When possible, put comments on a line of their own.\n",
    "-   Use docstrings.\n",
    "-   Use spaces around operators and after commas, but not directly\n",
    "    inside bracketing constructs:\n",
    "-   a = f(1, 2) + g(3, 4).\n",
    "-   Name your classes and functions consistently;\n",
    "-   the convention is to use CamelCase for classes and\n",
    "    lower_case_with_underscores for functions\n",
    "-   Don't use fancy encodings if your code is meant to be used in\n",
    "    international environments.\n",
    "-   Plain ASCII works best in any case.\n",
    "\n",
    "STRUCTURES DE DONNÉES \n",
    "----------------------\n",
    "\n",
    "-   variable\n",
    "-   Conteneurs\n",
    "\n",
    "    -   liste\n",
    "    -   tuple\n",
    "    -   set\n",
    "    -   dictionnaire\n",
    "\n",
    "### VARIABLES "
   ]
  },
  {
   "cell_type": "code",
   "execution_count": null,
   "metadata": {},
   "outputs": [],
   "source": [
    "a = 2\n",
    "b = 'test'\n",
    "c = 3.14"
   ]
  },
  {
   "cell_type": "markdown",
   "metadata": {},
   "source": [
    "\n",
    "### LISTES "
   ]
  },
  {
   "cell_type": "code",
   "execution_count": null,
   "metadata": {},
   "outputs": [],
   "source": [
    "l = ['a', 2, 1, 2]\n",
    "l[0]"
   ]
  },
  {
   "cell_type": "markdown",
   "metadata": {},
   "source": [
    "-   types quelconques (mélanges de types possibles)\n",
    "-   conversation de l'ordre\n",
    "-   indexable\n",
    "-   mutable\n",
    "-   les chaines de caractères sont des listes\n",
    "\n",
    "### TUPLE "
   ]
  },
  {
   "cell_type": "code",
   "execution_count": null,
   "metadata": {},
   "outputs": [],
   "source": [
    "t = ('a', 2, 1, 2)\n",
    "t[0]"
   ]
  },
  {
   "cell_type": "markdown",
   "metadata": {},
   "source": [
    "-   types quelconques (mélanges possibles)\n",
    "-   conversation de l'ordre\n",
    "-   indexable\n",
    "-   immutable\n",
    "\n",
    "### SET "
   ]
  },
  {
   "cell_type": "code",
   "execution_count": null,
   "metadata": {},
   "outputs": [],
   "source": [
    "s = {'a', 2, 1, 2}\n",
    "s"
   ]
  },
  {
   "cell_type": "markdown",
   "metadata": {},
   "source": [
    "-   types quelconques (mélanges possibles)\n",
    "-   elements uniques et triés\n",
    "-   immutable"
   ]
  },
  {
   "cell_type": "markdown",
   "metadata": {},
   "source": [
    "### DICTIONNAIRES "
   ]
  },
  {
   "cell_type": "code",
   "execution_count": null,
   "metadata": {},
   "outputs": [],
   "source": [
    "d = {'a':1, 2:3.14}\n",
    "d['a']"
   ]
  },
  {
   "cell_type": "markdown",
   "metadata": {},
   "source": [
    "-   types quelconques (mélanges possibles)\n",
    "-   Ensemble de paires clé:valeur\n",
    "-   trié par clés\n",
    "-   mutable"
   ]
  },
  {
   "cell_type": "markdown",
   "metadata": {},
   "source": [
    "## STRUCTURES DE CONTRÔLE \n",
    "\n",
    "-   if / else\n",
    "-   while\n",
    "-   for\n",
    "-   iterate"
   ]
  },
  {
   "cell_type": "markdown",
   "metadata": {},
   "source": [
    "### TESTS \n",
    "\n",
    "if... elif... else..."
   ]
  },
  {
   "cell_type": "code",
   "execution_count": null,
   "metadata": {},
   "outputs": [],
   "source": [
    "if a > 1:\n",
    " print('ok')\n",
    "elif a < -1:\n",
    "    print('ko')\n",
    "else:\n",
    "    pass"
   ]
  },
  {
   "cell_type": "markdown",
   "metadata": {},
   "source": [
    "### BOUCLES \n",
    "\n",
    "#### while "
   ]
  },
  {
   "cell_type": "code",
   "execution_count": null,
   "metadata": {},
   "outputs": [],
   "source": [
    "a=0\n",
    "while a <= 4:\n",
    "    print(a)\n",
    "    a+=2"
   ]
  },
  {
   "cell_type": "markdown",
   "metadata": {},
   "source": [
    "##### for "
   ]
  },
  {
   "cell_type": "code",
   "execution_count": null,
   "metadata": {},
   "outputs": [],
   "source": [
    "for i in [7,3,8]:\n",
    "    print(i)"
   ]
  },
  {
   "cell_type": "code",
   "execution_count": null,
   "metadata": {},
   "outputs": [],
   "source": [
    "for j in range(3):\n",
    "    print(j)"
   ]
  },
  {
   "cell_type": "markdown",
   "metadata": {},
   "source": [
    "#### enumerate(...) "
   ]
  },
  {
   "cell_type": "code",
   "execution_count": null,
   "metadata": {},
   "outputs": [],
   "source": [
    "for idx, lettre in enumerate('chaine'):\n",
    " print(idx, lettre)"
   ]
  },
  {
   "cell_type": "markdown",
   "metadata": {},
   "source": [
    "### PYTHONISMES \n",
    "\n",
    "#### is "
   ]
  },
  {
   "cell_type": "code",
   "execution_count": null,
   "metadata": {},
   "outputs": [],
   "source": [
    "if a is b:\n",
    "    print(\"a et b sont le même objet.\")"
   ]
  },
  {
   "cell_type": "markdown",
   "metadata": {},
   "source": [
    "#### Range: "
   ]
  },
  {
   "cell_type": "code",
   "execution_count": null,
   "metadata": {},
   "outputs": [],
   "source": [
    "for a in range(0,10,3):\n",
    "    print(a)"
   ]
  },
  {
   "cell_type": "markdown",
   "metadata": {},
   "source": [
    "### COMPREHENSIONS \n",
    "\n",
    "#### List comprehensions: "
   ]
  },
  {
   "cell_type": "code",
   "execution_count": null,
   "metadata": {},
   "outputs": [],
   "source": [
    "squares = [nb**2 for nb in range(0,10)]"
   ]
  },
  {
   "cell_type": "markdown",
   "metadata": {},
   "source": [
    "#### Dictionnary comprehensions: "
   ]
  },
  {
   "cell_type": "code",
   "execution_count": null,
   "metadata": {},
   "outputs": [],
   "source": [
    "odd_squares = {nb:nb**2 for nb in range(0,10) if nb**2%2}"
   ]
  },
  {
   "cell_type": "markdown",
   "metadata": {},
   "source": [
    "### EXCEPTIONS \n",
    "\n",
    "*It's easier to ask forgiveness than it is to get permission.*\n",
    "\n",
    "-   raise\n",
    "-   try / except\n",
    "\n",
    "#### RAISE "
   ]
  },
  {
   "cell_type": "code",
   "execution_count": null,
   "metadata": {},
   "outputs": [],
   "source": [
    "denominateur = 0\n",
    "if denominateur == 0:\n",
    "    raise ValueError, \"Le dénominateur ne peut être nul.\""
   ]
  },
  {
   "cell_type": "markdown",
   "metadata": {},
   "source": [
    "#### TRY... EXCEPT... "
   ]
  },
  {
   "cell_type": "code",
   "execution_count": null,
   "metadata": {},
   "outputs": [],
   "source": [
    "numerateur = 3.14\n",
    "denominateur = 0.0\n",
    "try:\n",
    "    resultat = numerateur / denominateur\n",
    "except ZeroDivisionError:\n",
    "    print(\"Le dénominateur est nul.\")\n",
    "else:\n",
    "    print(\"La division vaut\", resultat)\n",
    "finally:\n",
    "    print(\"Calcul terminé.\")"
   ]
  },
  {
   "cell_type": "markdown",
   "metadata": {},
   "source": [
    "### ENTRÉES / SORTIES \n",
    "\n",
    "-   input\n",
    "-   print\n",
    "-   format\n",
    "-   fichiers\n",
    "\n",
    "#### PRINT \n",
    "\n",
    "Affiche la chaine de caractère passée en argument"
   ]
  },
  {
   "cell_type": "code",
   "execution_count": null,
   "metadata": {},
   "outputs": [],
   "source": [
    "print(\"Bonjour!\")"
   ]
  },
  {
   "cell_type": "markdown",
   "metadata": {},
   "source": [
    "en Python 2: `print` n'est pas une fonction"
   ]
  },
  {
   "cell_type": "markdown",
   "metadata": {},
   "source": [
    "#### INPUT \n",
    "\n",
    "-   Permet de poser une question\n",
    "-   Renvoie une chaine de caractères\n",
    "-   Conversion nécessaire ensuite pour les autres types"
   ]
  },
  {
   "cell_type": "code",
   "execution_count": null,
   "metadata": {},
   "outputs": [],
   "source": [
    "nom=input(\"Quel est votre nom?\")\n",
    "print(nom)"
   ]
  },
  {
   "cell_type": "markdown",
   "metadata": {},
   "source": [
    "#### FORMAT \n",
    "\n",
    "Mise en forme d'une chaine de caractères"
   ]
  },
  {
   "cell_type": "code",
   "execution_count": null,
   "metadata": {},
   "outputs": [],
   "source": [
    "print('Bonjour {} !'.format(nom))\n",
    "print('Bonjour {} {} !'.format('Sir',nom))\n",
    "print('Bonjour {ti} {name} ou {name} !'.format(ti=\"Sir\",name=nom))"
   ]
  },
  {
   "cell_type": "markdown",
   "metadata": {},
   "source": [
    "### FICHIERS TEXTE \n",
    "\n",
    "#### Lecture "
   ]
  },
  {
   "cell_type": "code",
   "execution_count": null,
   "metadata": {},
   "outputs": [],
   "source": [
    "with open('monfichier.txt','r') as myfile:\n",
    "    for line in myfile:\n",
    "print(line)"
   ]
  },
  {
   "cell_type": "code",
   "execution_count": null,
   "metadata": {},
   "outputs": [],
   "source": [
    "with open('monfichier.txt','r') as myfile:\n",
    "    contenu = myfile.readlines()"
   ]
  },
  {
   "cell_type": "markdown",
   "metadata": {},
   "source": [
    "#### Écriture"
   ]
  },
  {
   "cell_type": "code",
   "execution_count": null,
   "metadata": {},
   "outputs": [],
   "source": [
    "with open('monfichier.txt','w') as myfile:\n",
    "    myfile.write('mon texte à sauvegarder.n')"
   ]
  },
  {
   "cell_type": "markdown",
   "metadata": {},
   "source": [
    "#### FONCTIONS \n",
    "\n",
    "-   Définition et Arguments\n",
    "-   Valeur de retour\n",
    "-   Documentation\n",
    "-   Décorateurs\n",
    "-   Lambdas\n",
    "\n",
    "#### Définition et Arguments "
   ]
  },
  {
   "cell_type": "code",
   "execution_count": null,
   "metadata": {},
   "outputs": [],
   "source": [
    "def calcul_milieu(pt_a, pt_b, precision='int', affiche_pts=False):\n",
    "    # votre code ici"
   ]
  },
  {
   "cell_type": "code",
   "execution_count": null,
   "metadata": {},
   "outputs": [],
   "source": [
    "calcul_milieu((3.5, 2.9), (-1.04, -8.32))"
   ]
  },
  {
   "cell_type": "code",
   "execution_count": null,
   "metadata": {},
   "outputs": [],
   "source": [
    "calcul_milieu((3.5, 2.9), (-1.04, -8.32), affiche_pts=True)"
   ]
  },
  {
   "cell_type": "code",
   "execution_count": null,
   "metadata": {},
   "outputs": [],
   "source": [
    "calcul_milieu((3.5, 2.9), (-1.04, -8.32), 'float')"
   ]
  },
  {
   "cell_type": "markdown",
   "metadata": {},
   "source": [
    "### VALEURS DE RETOUR \n",
    "\n",
    "#### Retourner une valeur:"
   ]
  },
  {
   "cell_type": "code",
   "execution_count": null,
   "metadata": {},
   "outputs": [],
   "source": [
    "def dis_non():\n",
    "    return \"non\"\n",
    "\n",
    "dis_non()"
   ]
  },
  {
   "cell_type": "markdown",
   "metadata": {},
   "source": [
    "#### Retourner un ensemble de valeurs: "
   ]
  },
  {
   "cell_type": "code",
   "execution_count": null,
   "metadata": {},
   "outputs": [],
   "source": [
    "def calcul_milieu(point_a, point_b):\n",
    "    return ((point_a[0]-point_b[0])/2. ,(point_a[1]-point_b[1])/2.)\n",
    "\n",
    "calcul_milieu((0.,1.),(1.,0.))"
   ]
  },
  {
   "cell_type": "markdown",
   "metadata": {},
   "source": [
    "### DOCUMENTATION ( DocString)"
   ]
  },
  {
   "cell_type": "code",
   "execution_count": null,
   "metadata": {},
   "outputs": [],
   "source": [
    "def calcul_milieu(point_a, point_b):\n",
    "\"\"\"\n",
    "Compute the middle of the (a,b) segment.\n",
    ":param point_a: tuple or list (xa, ya)\n",
    ":param point_b: tuple or list (xb, yb)\n",
    ":return: tuple (xm, ym)\n",
    "\"\"\"\n",
    "return (point_a[0]-point_b[0])/2. ,(point_a[1]-point_b[1])/2.\n",
    "\n",
    "calcul_milieu?"
   ]
  },
  {
   "cell_type": "markdown",
   "metadata": {},
   "source": [
    "### DÉCORATEURS "
   ]
  },
  {
   "cell_type": "markdown",
   "metadata": {},
   "source": [
    "```python\n",
    "@decorator\n",
    "function(arg)\n",
    "```\n",
    "\n",
    "```python\n",
    "decorator(function(arg))\n",
    "```"
   ]
  },
  {
   "cell_type": "markdown",
   "metadata": {},
   "source": [
    "-   Permet de faire une composition de fonction simplement\n",
    "-   ou de modifier l'execution d'une fonction"
   ]
  },
  {
   "cell_type": "markdown",
   "metadata": {},
   "source": [
    "### LAMBDA (paradigme fonctionnel)\n",
    "\n",
    "#### fonction anonyme "
   ]
  },
  {
   "cell_type": "code",
   "execution_count": null,
   "metadata": {},
   "outputs": [],
   "source": [
    "square = lambda x:x**2"
   ]
  },
  {
   "cell_type": "markdown",
   "metadata": {},
   "source": [
    "Permet de définir localement une fonction simple (dans un appel de\n",
    "fonction par exemple)"
   ]
  },
  {
   "cell_type": "markdown",
   "metadata": {},
   "source": [
    "### OBJETS ET CLASSES  (paradigme objet)\n",
    "\n",
    "En python, tout est objet"
   ]
  },
  {
   "cell_type": "code",
   "execution_count": 8,
   "metadata": {},
   "outputs": [
    {
     "name": "stdout",
     "output_type": "stream",
     "text": [
      "[1, 2, 2, 5]\n"
     ]
    }
   ],
   "source": [
    "l = [5, 2, 1, 2]\n",
    "l.sort()\n",
    "print(l)"
   ]
  },
  {
   "cell_type": "code",
   "execution_count": 9,
   "metadata": {},
   "outputs": [
    {
     "data": {
      "text/plain": [
       "list"
      ]
     },
     "execution_count": 9,
     "metadata": {},
     "output_type": "execute_result"
    }
   ],
   "source": [
    "l.__class__"
   ]
  },
  {
   "cell_type": "markdown",
   "metadata": {},
   "source": [
    "#### VOCABULAIRE \n",
    "\n",
    "Classe: Objet:\n",
    "\n",
    "Attribut: variable propre à un objet\n",
    "\n",
    "Méthode: fonction propre à une classe\n",
    "\n",
    "#### SYNTAXE "
   ]
  },
  {
   "cell_type": "code",
   "execution_count": null,
   "metadata": {},
   "outputs": [],
   "source": [
    "class point:\n",
    "    def __init__(self, coord_x,coord_y):\n",
    "        self.x = coord_x\n",
    "        self.y = coord_y\n",
    "\n",
    "    def __repr__(self):\n",
    "        return \"X:{} Y:{}\".format(self.x, self.y)"
   ]
  },
  {
   "cell_type": "code",
   "execution_count": null,
   "metadata": {},
   "outputs": [],
   "source": [
    "pt_a=point(3.4,7.8)\n",
    "print(pt_a)"
   ]
  },
  {
   "cell_type": "markdown",
   "metadata": {},
   "source": [
    "## INTERACTIONS GRAPHIQUES\n",
    "\n",
    "#### JUPYTER NOTEBOOK \n",
    "\n",
    "Narrative computations Interactions\n",
    "\n",
    "#### NARRATIVISME \n",
    "\n",
    "Créer un document regroupant narration et calculs en utilisant les\n",
    "capacités du notebook: fusionner un cours et des exercices en un seul\n",
    "document, proposer une documentation exécutable...\n",
    "\n",
    "#### DEMO \n",
    "\n",
    "#### INTERACTIONS \n",
    "\n",
    "Utilisation de widgets pour interagir avec le code\n",
    "\n",
    "Entrées utilisateur multiples Exploration interactive de données\n",
    "\n",
    "#### PYQT: ÉLÉMENTS GRAPHIQUES "
   ]
  },
  {
   "cell_type": "markdown",
   "metadata": {},
   "source": [
    "## Python pour les sciences\n",
    "\n",
    "#### BONUS: REGEXP \n",
    "\n",
    "Regular expression: Expression rationnelle/régulière, description d'un\n",
    "motif correspondant à un ensemble de chaine de caractères possibles\n",
    "\n",
    "-   Rechercher / Replacer dans le code\n",
    "-   Traitement de données textuelles"
   ]
  }
 ],
 "metadata": {
  "kernelspec": {
   "display_name": "Python 3",
   "language": "python",
   "name": "python3"
  },
  "language_info": {
   "codemirror_mode": {
    "name": "ipython",
    "version": 3
   },
   "file_extension": ".py",
   "mimetype": "text/x-python",
   "name": "python",
   "nbconvert_exporter": "python",
   "pygments_lexer": "ipython3",
   "version": "3.7.3"
  }
 },
 "nbformat": 4,
 "nbformat_minor": 2
}
